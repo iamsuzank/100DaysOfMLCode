{
 "cells": [
  {
   "cell_type": "markdown",
   "metadata": {},
   "source": [
    "# Data Frame"
   ]
  },
  {
   "cell_type": "code",
   "execution_count": 1,
   "metadata": {},
   "outputs": [],
   "source": [
    "import numpy as np\n",
    "import pandas as pd\n",
    "from numpy.random import randn"
   ]
  },
  {
   "cell_type": "code",
   "execution_count": 2,
   "metadata": {},
   "outputs": [],
   "source": [
    "df=pd.DataFrame(randn(5,4),index='A B C D E'.split(),columns='W X Y Z'.split())"
   ]
  },
  {
   "cell_type": "code",
   "execution_count": 3,
   "metadata": {},
   "outputs": [
    {
     "data": {
      "text/plain": [
       "['A', 'B', 'C', 'D', 'E']"
      ]
     },
     "execution_count": 3,
     "metadata": {},
     "output_type": "execute_result"
    }
   ],
   "source": [
    "index='A B C D E'\n",
    "index.split()"
   ]
  },
  {
   "cell_type": "code",
   "execution_count": 4,
   "metadata": {},
   "outputs": [
    {
     "data": {
      "text/html": [
       "<div>\n",
       "<style scoped>\n",
       "    .dataframe tbody tr th:only-of-type {\n",
       "        vertical-align: middle;\n",
       "    }\n",
       "\n",
       "    .dataframe tbody tr th {\n",
       "        vertical-align: top;\n",
       "    }\n",
       "\n",
       "    .dataframe thead th {\n",
       "        text-align: right;\n",
       "    }\n",
       "</style>\n",
       "<table border=\"1\" class=\"dataframe\">\n",
       "  <thead>\n",
       "    <tr style=\"text-align: right;\">\n",
       "      <th></th>\n",
       "      <th>W</th>\n",
       "      <th>X</th>\n",
       "      <th>Y</th>\n",
       "      <th>Z</th>\n",
       "    </tr>\n",
       "  </thead>\n",
       "  <tbody>\n",
       "    <tr>\n",
       "      <td>A</td>\n",
       "      <td>0.801049</td>\n",
       "      <td>1.101138</td>\n",
       "      <td>-0.675957</td>\n",
       "      <td>0.501171</td>\n",
       "    </tr>\n",
       "    <tr>\n",
       "      <td>B</td>\n",
       "      <td>-0.377999</td>\n",
       "      <td>1.718784</td>\n",
       "      <td>-0.966035</td>\n",
       "      <td>-0.312110</td>\n",
       "    </tr>\n",
       "    <tr>\n",
       "      <td>C</td>\n",
       "      <td>-1.561850</td>\n",
       "      <td>0.063519</td>\n",
       "      <td>-0.036675</td>\n",
       "      <td>0.481704</td>\n",
       "    </tr>\n",
       "    <tr>\n",
       "      <td>D</td>\n",
       "      <td>0.738490</td>\n",
       "      <td>-0.197018</td>\n",
       "      <td>2.412439</td>\n",
       "      <td>0.106602</td>\n",
       "    </tr>\n",
       "    <tr>\n",
       "      <td>E</td>\n",
       "      <td>1.710686</td>\n",
       "      <td>0.128332</td>\n",
       "      <td>0.451183</td>\n",
       "      <td>0.449052</td>\n",
       "    </tr>\n",
       "  </tbody>\n",
       "</table>\n",
       "</div>"
      ],
      "text/plain": [
       "          W         X         Y         Z\n",
       "A  0.801049  1.101138 -0.675957  0.501171\n",
       "B -0.377999  1.718784 -0.966035 -0.312110\n",
       "C -1.561850  0.063519 -0.036675  0.481704\n",
       "D  0.738490 -0.197018  2.412439  0.106602\n",
       "E  1.710686  0.128332  0.451183  0.449052"
      ]
     },
     "execution_count": 4,
     "metadata": {},
     "output_type": "execute_result"
    }
   ],
   "source": [
    "df"
   ]
  },
  {
   "cell_type": "code",
   "execution_count": 5,
   "metadata": {},
   "outputs": [
    {
     "data": {
      "text/plain": [
       "pandas.core.frame.DataFrame"
      ]
     },
     "execution_count": 5,
     "metadata": {},
     "output_type": "execute_result"
    }
   ],
   "source": [
    "type(df)"
   ]
  },
  {
   "cell_type": "code",
   "execution_count": 6,
   "metadata": {},
   "outputs": [],
   "source": [
    "# df.head(1)"
   ]
  },
  {
   "cell_type": "code",
   "execution_count": 7,
   "metadata": {},
   "outputs": [
    {
     "data": {
      "text/html": [
       "<div>\n",
       "<style scoped>\n",
       "    .dataframe tbody tr th:only-of-type {\n",
       "        vertical-align: middle;\n",
       "    }\n",
       "\n",
       "    .dataframe tbody tr th {\n",
       "        vertical-align: top;\n",
       "    }\n",
       "\n",
       "    .dataframe thead th {\n",
       "        text-align: right;\n",
       "    }\n",
       "</style>\n",
       "<table border=\"1\" class=\"dataframe\">\n",
       "  <thead>\n",
       "    <tr style=\"text-align: right;\">\n",
       "      <th></th>\n",
       "      <th>W</th>\n",
       "      <th>Y</th>\n",
       "    </tr>\n",
       "  </thead>\n",
       "  <tbody>\n",
       "    <tr>\n",
       "      <td>A</td>\n",
       "      <td>0.801049</td>\n",
       "      <td>-0.675957</td>\n",
       "    </tr>\n",
       "    <tr>\n",
       "      <td>B</td>\n",
       "      <td>-0.377999</td>\n",
       "      <td>-0.966035</td>\n",
       "    </tr>\n",
       "    <tr>\n",
       "      <td>C</td>\n",
       "      <td>-1.561850</td>\n",
       "      <td>-0.036675</td>\n",
       "    </tr>\n",
       "    <tr>\n",
       "      <td>D</td>\n",
       "      <td>0.738490</td>\n",
       "      <td>2.412439</td>\n",
       "    </tr>\n",
       "    <tr>\n",
       "      <td>E</td>\n",
       "      <td>1.710686</td>\n",
       "      <td>0.451183</td>\n",
       "    </tr>\n",
       "  </tbody>\n",
       "</table>\n",
       "</div>"
      ],
      "text/plain": [
       "          W         Y\n",
       "A  0.801049 -0.675957\n",
       "B -0.377999 -0.966035\n",
       "C -1.561850 -0.036675\n",
       "D  0.738490  2.412439\n",
       "E  1.710686  0.451183"
      ]
     },
     "execution_count": 7,
     "metadata": {},
     "output_type": "execute_result"
    }
   ],
   "source": [
    "df[['W','Y']]\n",
    "# show to columns W,Y"
   ]
  },
  {
   "cell_type": "code",
   "execution_count": 8,
   "metadata": {},
   "outputs": [
    {
     "data": {
      "text/plain": [
       "A    0.125093\n",
       "B   -1.344034\n",
       "C   -1.598525\n",
       "D    3.150929\n",
       "E    2.161869\n",
       "Name: new, dtype: float64"
      ]
     },
     "execution_count": 8,
     "metadata": {},
     "output_type": "execute_result"
    }
   ],
   "source": [
    "df['new']=df['W']+df['Y']\n",
    "df['new']"
   ]
  },
  {
   "cell_type": "code",
   "execution_count": 9,
   "metadata": {},
   "outputs": [],
   "source": [
    "df.drop('A',axis=0,inplace=True)"
   ]
  },
  {
   "cell_type": "code",
   "execution_count": 10,
   "metadata": {},
   "outputs": [],
   "source": [
    "# df.drop('new',axis=1,inplace=True)\n",
    "# df.drop('A',axis=0,inplace=True)\n",
    "# axis=1:to drop column\n",
    "# axis=0:to drop row"
   ]
  },
  {
   "cell_type": "code",
   "execution_count": 11,
   "metadata": {},
   "outputs": [
    {
     "data": {
      "text/plain": [
       "B   -1.344034\n",
       "C   -1.598525\n",
       "D    3.150929\n",
       "E    2.161869\n",
       "Name: new, dtype: float64"
      ]
     },
     "execution_count": 11,
     "metadata": {},
     "output_type": "execute_result"
    }
   ],
   "source": [
    "df['new']\n",
    "# show the value of particular columns"
   ]
  },
  {
   "cell_type": "code",
   "execution_count": 12,
   "metadata": {},
   "outputs": [
    {
     "data": {
      "text/html": [
       "<div>\n",
       "<style scoped>\n",
       "    .dataframe tbody tr th:only-of-type {\n",
       "        vertical-align: middle;\n",
       "    }\n",
       "\n",
       "    .dataframe tbody tr th {\n",
       "        vertical-align: top;\n",
       "    }\n",
       "\n",
       "    .dataframe thead th {\n",
       "        text-align: right;\n",
       "    }\n",
       "</style>\n",
       "<table border=\"1\" class=\"dataframe\">\n",
       "  <thead>\n",
       "    <tr style=\"text-align: right;\">\n",
       "      <th></th>\n",
       "      <th>W</th>\n",
       "      <th>X</th>\n",
       "      <th>Y</th>\n",
       "      <th>Z</th>\n",
       "      <th>new</th>\n",
       "    </tr>\n",
       "  </thead>\n",
       "  <tbody>\n",
       "    <tr>\n",
       "      <td>B</td>\n",
       "      <td>-0.377999</td>\n",
       "      <td>1.718784</td>\n",
       "      <td>-0.966035</td>\n",
       "      <td>-0.312110</td>\n",
       "      <td>-1.344034</td>\n",
       "    </tr>\n",
       "    <tr>\n",
       "      <td>C</td>\n",
       "      <td>-1.561850</td>\n",
       "      <td>0.063519</td>\n",
       "      <td>-0.036675</td>\n",
       "      <td>0.481704</td>\n",
       "      <td>-1.598525</td>\n",
       "    </tr>\n",
       "    <tr>\n",
       "      <td>D</td>\n",
       "      <td>0.738490</td>\n",
       "      <td>-0.197018</td>\n",
       "      <td>2.412439</td>\n",
       "      <td>0.106602</td>\n",
       "      <td>3.150929</td>\n",
       "    </tr>\n",
       "    <tr>\n",
       "      <td>E</td>\n",
       "      <td>1.710686</td>\n",
       "      <td>0.128332</td>\n",
       "      <td>0.451183</td>\n",
       "      <td>0.449052</td>\n",
       "      <td>2.161869</td>\n",
       "    </tr>\n",
       "  </tbody>\n",
       "</table>\n",
       "</div>"
      ],
      "text/plain": [
       "          W         X         Y         Z       new\n",
       "B -0.377999  1.718784 -0.966035 -0.312110 -1.344034\n",
       "C -1.561850  0.063519 -0.036675  0.481704 -1.598525\n",
       "D  0.738490 -0.197018  2.412439  0.106602  3.150929\n",
       "E  1.710686  0.128332  0.451183  0.449052  2.161869"
      ]
     },
     "execution_count": 12,
     "metadata": {},
     "output_type": "execute_result"
    }
   ],
   "source": [
    "# df.drop('A',axis=0,inplace=True)#to drop row axis=0\n",
    "df"
   ]
  },
  {
   "cell_type": "code",
   "execution_count": 13,
   "metadata": {},
   "outputs": [
    {
     "data": {
      "text/html": [
       "<div>\n",
       "<style scoped>\n",
       "    .dataframe tbody tr th:only-of-type {\n",
       "        vertical-align: middle;\n",
       "    }\n",
       "\n",
       "    .dataframe tbody tr th {\n",
       "        vertical-align: top;\n",
       "    }\n",
       "\n",
       "    .dataframe thead th {\n",
       "        text-align: right;\n",
       "    }\n",
       "</style>\n",
       "<table border=\"1\" class=\"dataframe\">\n",
       "  <thead>\n",
       "    <tr style=\"text-align: right;\">\n",
       "      <th></th>\n",
       "      <th>W</th>\n",
       "      <th>X</th>\n",
       "      <th>Y</th>\n",
       "      <th>Z</th>\n",
       "      <th>new</th>\n",
       "    </tr>\n",
       "  </thead>\n",
       "  <tbody>\n",
       "    <tr>\n",
       "      <td>B</td>\n",
       "      <td>-0.377999</td>\n",
       "      <td>1.718784</td>\n",
       "      <td>-0.966035</td>\n",
       "      <td>-0.312110</td>\n",
       "      <td>-1.344034</td>\n",
       "    </tr>\n",
       "    <tr>\n",
       "      <td>C</td>\n",
       "      <td>-1.561850</td>\n",
       "      <td>0.063519</td>\n",
       "      <td>-0.036675</td>\n",
       "      <td>0.481704</td>\n",
       "      <td>-1.598525</td>\n",
       "    </tr>\n",
       "    <tr>\n",
       "      <td>D</td>\n",
       "      <td>0.738490</td>\n",
       "      <td>-0.197018</td>\n",
       "      <td>2.412439</td>\n",
       "      <td>0.106602</td>\n",
       "      <td>3.150929</td>\n",
       "    </tr>\n",
       "    <tr>\n",
       "      <td>E</td>\n",
       "      <td>1.710686</td>\n",
       "      <td>0.128332</td>\n",
       "      <td>0.451183</td>\n",
       "      <td>0.449052</td>\n",
       "      <td>2.161869</td>\n",
       "    </tr>\n",
       "  </tbody>\n",
       "</table>\n",
       "</div>"
      ],
      "text/plain": [
       "          W         X         Y         Z       new\n",
       "B -0.377999  1.718784 -0.966035 -0.312110 -1.344034\n",
       "C -1.561850  0.063519 -0.036675  0.481704 -1.598525\n",
       "D  0.738490 -0.197018  2.412439  0.106602  3.150929\n",
       "E  1.710686  0.128332  0.451183  0.449052  2.161869"
      ]
     },
     "execution_count": 13,
     "metadata": {},
     "output_type": "execute_result"
    }
   ],
   "source": [
    "df\n"
   ]
  },
  {
   "cell_type": "code",
   "execution_count": 17,
   "metadata": {},
   "outputs": [
    {
     "data": {
      "text/plain": [
       "W     -0.377999\n",
       "X      1.718784\n",
       "Y     -0.966035\n",
       "Z     -0.312110\n",
       "new   -1.344034\n",
       "Name: B, dtype: float64"
      ]
     },
     "execution_count": 17,
     "metadata": {},
     "output_type": "execute_result"
    }
   ],
   "source": [
    "df.loc['B']\n",
    "# show value of row according to key"
   ]
  },
  {
   "cell_type": "code",
   "execution_count": 98,
   "metadata": {},
   "outputs": [
    {
     "data": {
      "text/plain": [
       "W      0.823155\n",
       "X      0.088823\n",
       "Y     -2.052979\n",
       "Z     -2.422214\n",
       "new   -1.229824\n",
       "Name: B, dtype: float64"
      ]
     },
     "execution_count": 98,
     "metadata": {},
     "output_type": "execute_result"
    }
   ],
   "source": [
    "df.iloc[0]\n",
    "# show the value of particular row according to index"
   ]
  },
  {
   "cell_type": "code",
   "execution_count": 99,
   "metadata": {},
   "outputs": [
    {
     "data": {
      "text/plain": [
       "0.6504390806891323"
      ]
     },
     "execution_count": 99,
     "metadata": {},
     "output_type": "execute_result"
    }
   ],
   "source": [
    "df['W'].mean()"
   ]
  },
  {
   "cell_type": "code",
   "execution_count": 100,
   "metadata": {},
   "outputs": [
    {
     "data": {
      "text/html": [
       "<div>\n",
       "<style scoped>\n",
       "    .dataframe tbody tr th:only-of-type {\n",
       "        vertical-align: middle;\n",
       "    }\n",
       "\n",
       "    .dataframe tbody tr th {\n",
       "        vertical-align: top;\n",
       "    }\n",
       "\n",
       "    .dataframe thead th {\n",
       "        text-align: right;\n",
       "    }\n",
       "</style>\n",
       "<table border=\"1\" class=\"dataframe\">\n",
       "  <thead>\n",
       "    <tr style=\"text-align: right;\">\n",
       "      <th></th>\n",
       "      <th>W</th>\n",
       "      <th>X</th>\n",
       "      <th>Y</th>\n",
       "      <th>Z</th>\n",
       "      <th>new</th>\n",
       "    </tr>\n",
       "  </thead>\n",
       "  <tbody>\n",
       "    <tr>\n",
       "      <td>count</td>\n",
       "      <td>4.000000</td>\n",
       "      <td>4.000000</td>\n",
       "      <td>4.000000</td>\n",
       "      <td>4.000000</td>\n",
       "      <td>4.000000</td>\n",
       "    </tr>\n",
       "    <tr>\n",
       "      <td>mean</td>\n",
       "      <td>0.650439</td>\n",
       "      <td>-0.166336</td>\n",
       "      <td>-0.355355</td>\n",
       "      <td>0.055107</td>\n",
       "      <td>0.295084</td>\n",
       "    </tr>\n",
       "    <tr>\n",
       "      <td>std</td>\n",
       "      <td>0.414909</td>\n",
       "      <td>0.429650</td>\n",
       "      <td>1.978197</td>\n",
       "      <td>1.695383</td>\n",
       "      <td>1.636908</td>\n",
       "    </tr>\n",
       "    <tr>\n",
       "      <td>min</td>\n",
       "      <td>0.164641</td>\n",
       "      <td>-0.714586</td>\n",
       "      <td>-2.060202</td>\n",
       "      <td>-2.422214</td>\n",
       "      <td>-1.229824</td>\n",
       "    </tr>\n",
       "    <tr>\n",
       "      <td>25%</td>\n",
       "      <td>0.408274</td>\n",
       "      <td>-0.395545</td>\n",
       "      <td>-2.054785</td>\n",
       "      <td>-0.246271</td>\n",
       "      <td>-1.009251</td>\n",
       "    </tr>\n",
       "    <tr>\n",
       "      <td>50%</td>\n",
       "      <td>0.656320</td>\n",
       "      <td>-0.100187</td>\n",
       "      <td>-0.496272</td>\n",
       "      <td>0.623127</td>\n",
       "      <td>0.144674</td>\n",
       "    </tr>\n",
       "    <tr>\n",
       "      <td>75%</td>\n",
       "      <td>0.898485</td>\n",
       "      <td>0.129022</td>\n",
       "      <td>1.203157</td>\n",
       "      <td>0.924505</td>\n",
       "      <td>1.449009</td>\n",
       "    </tr>\n",
       "    <tr>\n",
       "      <td>max</td>\n",
       "      <td>1.124476</td>\n",
       "      <td>0.249618</td>\n",
       "      <td>1.631326</td>\n",
       "      <td>1.396388</td>\n",
       "      <td>2.120811</td>\n",
       "    </tr>\n",
       "  </tbody>\n",
       "</table>\n",
       "</div>"
      ],
      "text/plain": [
       "              W         X         Y         Z       new\n",
       "count  4.000000  4.000000  4.000000  4.000000  4.000000\n",
       "mean   0.650439 -0.166336 -0.355355  0.055107  0.295084\n",
       "std    0.414909  0.429650  1.978197  1.695383  1.636908\n",
       "min    0.164641 -0.714586 -2.060202 -2.422214 -1.229824\n",
       "25%    0.408274 -0.395545 -2.054785 -0.246271 -1.009251\n",
       "50%    0.656320 -0.100187 -0.496272  0.623127  0.144674\n",
       "75%    0.898485  0.129022  1.203157  0.924505  1.449009\n",
       "max    1.124476  0.249618  1.631326  1.396388  2.120811"
      ]
     },
     "execution_count": 100,
     "metadata": {},
     "output_type": "execute_result"
    }
   ],
   "source": [
    "df.describe()"
   ]
  },
  {
   "cell_type": "code",
   "execution_count": 103,
   "metadata": {},
   "outputs": [
    {
     "data": {
      "text/html": [
       "<div>\n",
       "<style scoped>\n",
       "    .dataframe tbody tr th:only-of-type {\n",
       "        vertical-align: middle;\n",
       "    }\n",
       "\n",
       "    .dataframe tbody tr th {\n",
       "        vertical-align: top;\n",
       "    }\n",
       "\n",
       "    .dataframe thead th {\n",
       "        text-align: right;\n",
       "    }\n",
       "</style>\n",
       "<table border=\"1\" class=\"dataframe\">\n",
       "  <thead>\n",
       "    <tr style=\"text-align: right;\">\n",
       "      <th></th>\n",
       "      <th>W</th>\n",
       "      <th>X</th>\n",
       "      <th>Y</th>\n",
       "      <th>Z</th>\n",
       "    </tr>\n",
       "  </thead>\n",
       "  <tbody>\n",
       "    <tr>\n",
       "      <td>B</td>\n",
       "      <td>0.823155</td>\n",
       "      <td>0.088823</td>\n",
       "      <td>-2.052979</td>\n",
       "      <td>-2.422214</td>\n",
       "    </tr>\n",
       "    <tr>\n",
       "      <td>C</td>\n",
       "      <td>0.164641</td>\n",
       "      <td>-0.289197</td>\n",
       "      <td>1.060434</td>\n",
       "      <td>1.396388</td>\n",
       "    </tr>\n",
       "    <tr>\n",
       "      <td>D</td>\n",
       "      <td>1.124476</td>\n",
       "      <td>0.249618</td>\n",
       "      <td>-2.060202</td>\n",
       "      <td>0.479043</td>\n",
       "    </tr>\n",
       "    <tr>\n",
       "      <td>E</td>\n",
       "      <td>0.489485</td>\n",
       "      <td>-0.714586</td>\n",
       "      <td>1.631326</td>\n",
       "      <td>0.767211</td>\n",
       "    </tr>\n",
       "  </tbody>\n",
       "</table>\n",
       "</div>"
      ],
      "text/plain": [
       "          W         X         Y         Z\n",
       "B  0.823155  0.088823 -2.052979 -2.422214\n",
       "C  0.164641 -0.289197  1.060434  1.396388\n",
       "D  1.124476  0.249618 -2.060202  0.479043\n",
       "E  0.489485 -0.714586  1.631326  0.767211"
      ]
     },
     "execution_count": 103,
     "metadata": {},
     "output_type": "execute_result"
    }
   ],
   "source": [
    "df.drop('new',axis=1,inplace=True)#to drop row axis=0\n",
    "df"
   ]
  },
  {
   "cell_type": "code",
   "execution_count": null,
   "metadata": {},
   "outputs": [],
   "source": []
  }
 ],
 "metadata": {
  "kernelspec": {
   "display_name": "Python 3",
   "language": "python",
   "name": "python3"
  },
  "language_info": {
   "codemirror_mode": {
    "name": "ipython",
    "version": 3
   },
   "file_extension": ".py",
   "mimetype": "text/x-python",
   "name": "python",
   "nbconvert_exporter": "python",
   "pygments_lexer": "ipython3",
   "version": "3.7.4"
  }
 },
 "nbformat": 4,
 "nbformat_minor": 2
}
